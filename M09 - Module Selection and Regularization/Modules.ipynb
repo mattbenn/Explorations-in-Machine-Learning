{
 "cells": [
  {
   "cell_type": "code",
   "execution_count": null,
   "id": "ec7f2a48-e7bf-48be-87bb-73024db7c79e",
   "metadata": {},
   "outputs": [],
   "source": [
    "def cprint(text: str, color: str = 'yellow'):\n",
    "  \"\"\"Uses a few basic colors to print messages/warnings to the console.\"\"\"\n",
    "  lookup_dict = {'black': 30, 'red': 31, 'green': 32, 'yellow': 33, 'blue': 34, 'magenta': 35, 'cyan': 36, 'white': 37,\n",
    "                 'bred': 91, 'bgreen':92, 'byellow': 93, 'bblue': 94, 'bmagenta': 95, 'bcyan': 96, 'bwhite': 97}\n",
    "  if color not in lookup_dict.keys():\n",
    "    message = \"Color not in code. Possible values: \" + str(list(lookup_dict.keys()))\n",
    "    cprint(text = message, color = '31')\n",
    "    return\n",
    "  print(\"\\033[{}m{}\\033[00m\".format(lookup_dict[color], text))\n",
    "  return\n"
   ]
  },
  {
   "cell_type": "code",
   "execution_count": 1,
   "id": "396b5a89-6721-404b-a19c-6e54964babdf",
   "metadata": {},
   "outputs": [
    {
     "name": "stderr",
     "output_type": "stream",
     "text": [
      "'jupyter' is not recognized as an internal or external command,\n",
      "operable program or batch file.\n"
     ]
    }
   ],
   "source": []
  }
 ],
 "metadata": {
  "kernelspec": {
   "display_name": "Python 3 (ipykernel)",
   "language": "python",
   "name": "python3"
  },
  "language_info": {
   "codemirror_mode": {
    "name": "ipython",
    "version": 3
   },
   "file_extension": ".py",
   "mimetype": "text/x-python",
   "name": "python",
   "nbconvert_exporter": "python",
   "pygments_lexer": "ipython3",
   "version": "3.11.6"
  }
 },
 "nbformat": 4,
 "nbformat_minor": 5
}
