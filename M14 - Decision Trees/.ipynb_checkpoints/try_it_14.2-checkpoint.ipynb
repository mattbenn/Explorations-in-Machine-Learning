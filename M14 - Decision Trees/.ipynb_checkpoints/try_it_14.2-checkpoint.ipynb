{
 "cells": [
  {
   "cell_type": "markdown",
   "metadata": {},
   "source": [
    "### Grid Searching Decision Trees\n",
    "\n",
    "This try-it focuses on performing a grid search with a `DecisionTreeClassifier`.  As mentioned in the lectures, the grid search for a tree model can get large very easily. In addition to using `GridSearchCV`, scikitlearn implements additional tools that can save energy and offer alternatives to the brute force exhaustive search.  Below, you will compare the performance of some of these alternatives and discuss the time these searches take.  Note that this will be in large part determined by your personal computing power however the relative speed of the searches should be consistent."
   ]
  },
  {
   "cell_type": "code",
   "execution_count": 7,
   "metadata": {},
   "outputs": [],
   "source": [
    "import pandas as pd\n",
    "import numpy as np\n",
    "import matplotlib.pyplot as plt\n",
    "import seaborn as sns\n",
    "\n",
    "from sklearn.experimental import enable_halving_search_cv\n",
    "from sklearn.tree import DecisionTreeClassifier, export_text, plot_tree\n",
    "from sklearn.model_selection import train_test_split, GridSearchCV, RandomizedSearchCV, HalvingGridSearchCV, HalvingRandomSearchCV\n",
    "from sklearn.pipeline import Pipeline\n",
    "from sklearn.preprocessing import StandardScaler\n",
    "\n",
    "import time\n",
    "import json"
   ]
  },
  {
   "cell_type": "code",
   "execution_count": 87,
   "metadata": {},
   "outputs": [
    {
     "name": "stdout",
     "output_type": "stream",
     "text": [
      "Total hyperparameter permutations per single CV run: 600. Total cross-fold validations: 3000\n"
     ]
    }
   ],
   "source": [
    "params = {'dtree__max_depth': list(range(1, 11)),\n",
    "          'dtree__min_samples_split': list(range(2, 6)),\n",
    "          'dtree__criterion': ['gini', 'entropy', 'log_loss'],\n",
    "          'dtree__min_samples_leaf': list(range(1, 6))\n",
    "         }\n",
    "total_count = len(params['dtree__max_depth'])*len(params['dtree__min_samples_split'])*len(params['dtree__criterion'])*len(params['dtree__min_samples_leaf'])\n",
    "print(f'Total hyperparameter permutations per single CV run: {total_count}. Total cross-fold validations: {total_count*5}')"
   ]
  },
  {
   "cell_type": "code",
   "execution_count": 9,
   "metadata": {},
   "outputs": [],
   "source": [
    "dtree = DecisionTreeClassifier()"
   ]
  },
  {
   "cell_type": "code",
   "execution_count": 10,
   "metadata": {},
   "outputs": [
    {
     "data": {
      "text/html": [
       "<div>\n",
       "<style scoped>\n",
       "    .dataframe tbody tr th:only-of-type {\n",
       "        vertical-align: middle;\n",
       "    }\n",
       "\n",
       "    .dataframe tbody tr th {\n",
       "        vertical-align: top;\n",
       "    }\n",
       "\n",
       "    .dataframe thead th {\n",
       "        text-align: right;\n",
       "    }\n",
       "</style>\n",
       "<table border=\"1\" class=\"dataframe\">\n",
       "  <thead>\n",
       "    <tr style=\"text-align: right;\">\n",
       "      <th></th>\n",
       "      <th>outcome</th>\n",
       "      <th>smoker</th>\n",
       "      <th>age</th>\n",
       "    </tr>\n",
       "  </thead>\n",
       "  <tbody>\n",
       "    <tr>\n",
       "      <th>0</th>\n",
       "      <td>Alive</td>\n",
       "      <td>Yes</td>\n",
       "      <td>23</td>\n",
       "    </tr>\n",
       "    <tr>\n",
       "      <th>1</th>\n",
       "      <td>Alive</td>\n",
       "      <td>Yes</td>\n",
       "      <td>18</td>\n",
       "    </tr>\n",
       "    <tr>\n",
       "      <th>2</th>\n",
       "      <td>Dead</td>\n",
       "      <td>Yes</td>\n",
       "      <td>71</td>\n",
       "    </tr>\n",
       "    <tr>\n",
       "      <th>3</th>\n",
       "      <td>Alive</td>\n",
       "      <td>No</td>\n",
       "      <td>67</td>\n",
       "    </tr>\n",
       "    <tr>\n",
       "      <th>4</th>\n",
       "      <td>Alive</td>\n",
       "      <td>No</td>\n",
       "      <td>64</td>\n",
       "    </tr>\n",
       "  </tbody>\n",
       "</table>\n",
       "</div>"
      ],
      "text/plain": [
       "  outcome smoker  age\n",
       "0   Alive    Yes   23\n",
       "1   Alive    Yes   18\n",
       "2    Dead    Yes   71\n",
       "3   Alive     No   67\n",
       "4   Alive     No   64"
      ]
     },
     "execution_count": 10,
     "metadata": {},
     "output_type": "execute_result"
    }
   ],
   "source": [
    "data = pd.read_csv('data/Whickham.txt')\n",
    "data.head()"
   ]
  },
  {
   "cell_type": "code",
   "execution_count": 11,
   "metadata": {},
   "outputs": [
    {
     "name": "stdout",
     "output_type": "stream",
     "text": [
      "0    Alive\n",
      "1    Alive\n",
      "2     Dead\n",
      "3    Alive\n",
      "4    Alive\n",
      "Name: outcome, dtype: object\n",
      "   smoker  age\n",
      "0       1   23\n",
      "1       1   18\n",
      "2       1   71\n",
      "3       0   67\n",
      "4       0   64\n"
     ]
    },
    {
     "data": {
      "text/html": [
       "<div>\n",
       "<style scoped>\n",
       "    .dataframe tbody tr th:only-of-type {\n",
       "        vertical-align: middle;\n",
       "    }\n",
       "\n",
       "    .dataframe tbody tr th {\n",
       "        vertical-align: top;\n",
       "    }\n",
       "\n",
       "    .dataframe thead th {\n",
       "        text-align: right;\n",
       "    }\n",
       "</style>\n",
       "<table border=\"1\" class=\"dataframe\">\n",
       "  <thead>\n",
       "    <tr style=\"text-align: right;\">\n",
       "      <th></th>\n",
       "      <th>outcome</th>\n",
       "      <th>smoker</th>\n",
       "      <th>age</th>\n",
       "    </tr>\n",
       "  </thead>\n",
       "  <tbody>\n",
       "    <tr>\n",
       "      <th>0</th>\n",
       "      <td>Alive</td>\n",
       "      <td>Yes</td>\n",
       "      <td>23</td>\n",
       "    </tr>\n",
       "    <tr>\n",
       "      <th>1</th>\n",
       "      <td>Alive</td>\n",
       "      <td>Yes</td>\n",
       "      <td>18</td>\n",
       "    </tr>\n",
       "    <tr>\n",
       "      <th>2</th>\n",
       "      <td>Dead</td>\n",
       "      <td>Yes</td>\n",
       "      <td>71</td>\n",
       "    </tr>\n",
       "    <tr>\n",
       "      <th>3</th>\n",
       "      <td>Alive</td>\n",
       "      <td>No</td>\n",
       "      <td>67</td>\n",
       "    </tr>\n",
       "    <tr>\n",
       "      <th>4</th>\n",
       "      <td>Alive</td>\n",
       "      <td>No</td>\n",
       "      <td>64</td>\n",
       "    </tr>\n",
       "  </tbody>\n",
       "</table>\n",
       "</div>"
      ],
      "text/plain": [
       "  outcome smoker  age\n",
       "0   Alive    Yes   23\n",
       "1   Alive    Yes   18\n",
       "2    Dead    Yes   71\n",
       "3   Alive     No   67\n",
       "4   Alive     No   64"
      ]
     },
     "execution_count": 11,
     "metadata": {},
     "output_type": "execute_result"
    }
   ],
   "source": [
    "X = data.drop('outcome', axis = 1)\n",
    "X.smoker = X.smoker.map({'Yes': 1, 'No': 0})\n",
    "y = data.outcome\n",
    "\n",
    "print(y.head())\n",
    "print(X.head())\n",
    "data.head()"
   ]
  },
  {
   "cell_type": "markdown",
   "metadata": {},
   "source": [
    "### Comparing Grid Searches\n",
    "\n",
    "Below, explore the four grid search options using the same parameter selections for the `DecisionTreeClassifier`. All of the grid searching tools have a `.cv_results_` attribute after fitting that contains information after fitting including time.  Use this to compare the time of each search and discuss what you believe the \"best\" approach to identifying the hyperparameters of the model are between:\n",
    "\n",
    "- `GridSearchCV`\n",
    "- `RandomizedSearchCV`\n",
    "- `HalvingGridSearchCV`\n",
    "- `HalvingRandomSearchCV`\n",
    "\n",
    "Share your results in a plot comparing the different times for searching across the different parameters as well as the score of the different estimators that resulted from the grid search."
   ]
  },
  {
   "cell_type": "markdown",
   "metadata": {},
   "source": [
    "For this, I want to perform grid searches and clock the system time before and after. For visualization purposes, I am interested in:\n",
    "- Time for each CV evaluation, by hyperparameters\n",
    "- Total time for each GridSearch\n",
    "- Accuracy of best evaluation"
   ]
  },
  {
   "cell_type": "code",
   "execution_count": 12,
   "metadata": {},
   "outputs": [
    {
     "name": "stdout",
     "output_type": "stream",
     "text": [
      "Loop 4 (outer loop: 1) completed. Time: 16:39:25\n",
      "Loop 8 (outer loop: 2) completed. Time: 16:40:02\n",
      "Loop 12 (outer loop: 3) completed. Time: 16:40:39\n",
      "Loop 16 (outer loop: 4) completed. Time: 16:41:14\n",
      "Loop 20 (outer loop: 5) completed. Time: 16:41:48\n",
      "Loop 24 (outer loop: 6) completed. Time: 16:42:24\n",
      "Loop 28 (outer loop: 7) completed. Time: 16:43:01\n",
      "Loop 32 (outer loop: 8) completed. Time: 16:43:37\n",
      "Loop 36 (outer loop: 9) completed. Time: 16:44:13\n",
      "Loop 40 (outer loop: 10) completed. Time: 16:44:48\n",
      "Loop 44 (outer loop: 11) completed. Time: 16:45:22\n",
      "Loop 48 (outer loop: 12) completed. Time: 16:45:57\n",
      "Loop 52 (outer loop: 13) completed. Time: 16:46:29\n",
      "Loop 56 (outer loop: 14) completed. Time: 16:47:05\n",
      "Loop 60 (outer loop: 15) completed. Time: 16:47:40\n",
      "Loop 64 (outer loop: 16) completed. Time: 16:48:17\n",
      "Loop 68 (outer loop: 17) completed. Time: 16:48:53\n",
      "Loop 72 (outer loop: 18) completed. Time: 16:49:27\n",
      "Loop 76 (outer loop: 19) completed. Time: 16:50:02\n",
      "Loop 80 (outer loop: 20) completed. Time: 16:50:39\n",
      "Loop 84 (outer loop: 21) completed. Time: 16:51:15\n",
      "Loop 88 (outer loop: 22) completed. Time: 16:51:52\n",
      "Loop 92 (outer loop: 23) completed. Time: 16:52:29\n",
      "Loop 96 (outer loop: 24) completed. Time: 16:53:03\n",
      "Loop 100 (outer loop: 25) completed. Time: 16:53:37\n",
      "Loop 104 (outer loop: 26) completed. Time: 16:54:13\n",
      "Loop 108 (outer loop: 27) completed. Time: 16:54:49\n",
      "Loop 112 (outer loop: 28) completed. Time: 16:55:26\n",
      "Loop 116 (outer loop: 29) completed. Time: 16:56:03\n",
      "Loop 120 (outer loop: 30) completed. Time: 16:56:40\n",
      "Loop 124 (outer loop: 31) completed. Time: 16:57:14\n",
      "Loop 128 (outer loop: 32) completed. Time: 16:57:48\n",
      "Loop 132 (outer loop: 33) completed. Time: 16:58:24\n",
      "Loop 136 (outer loop: 34) completed. Time: 16:59:01\n",
      "Loop 140 (outer loop: 35) completed. Time: 16:59:31\n",
      "Loop 144 (outer loop: 36) completed. Time: 17:00:04\n",
      "Loop 148 (outer loop: 37) completed. Time: 17:00:41\n",
      "Loop 152 (outer loop: 38) completed. Time: 17:01:11\n",
      "Loop 156 (outer loop: 39) completed. Time: 17:01:45\n",
      "Loop 160 (outer loop: 40) completed. Time: 17:02:22\n",
      "Loop 164 (outer loop: 41) completed. Time: 17:02:59\n",
      "Loop 168 (outer loop: 42) completed. Time: 17:03:35\n",
      "Loop 172 (outer loop: 43) completed. Time: 17:04:12\n",
      "Loop 176 (outer loop: 44) completed. Time: 17:04:48\n",
      "Loop 180 (outer loop: 45) completed. Time: 17:05:22\n",
      "Loop 184 (outer loop: 46) completed. Time: 17:05:57\n",
      "Loop 188 (outer loop: 47) completed. Time: 17:06:34\n",
      "Loop 192 (outer loop: 48) completed. Time: 17:07:10\n",
      "Loop 196 (outer loop: 49) completed. Time: 17:07:47\n",
      "Loop 200 (outer loop: 50) completed. Time: 17:08:23\n",
      "Loop 204 (outer loop: 51) completed. Time: 17:08:58\n",
      "Loop 208 (outer loop: 52) completed. Time: 17:09:32\n",
      "Loop 212 (outer loop: 53) completed. Time: 17:10:08\n",
      "Loop 216 (outer loop: 54) completed. Time: 17:10:44\n",
      "Loop 220 (outer loop: 55) completed. Time: 17:11:21\n",
      "Loop 224 (outer loop: 56) completed. Time: 17:11:58\n",
      "Loop 228 (outer loop: 57) completed. Time: 17:12:34\n",
      "Loop 232 (outer loop: 58) completed. Time: 17:13:09\n",
      "Loop 236 (outer loop: 59) completed. Time: 17:13:42\n",
      "Loop 240 (outer loop: 60) completed. Time: 17:14:19\n",
      "Loop 244 (outer loop: 61) completed. Time: 17:14:56\n",
      "Loop 248 (outer loop: 62) completed. Time: 17:15:33\n",
      "Loop 252 (outer loop: 63) completed. Time: 17:16:10\n",
      "Loop 256 (outer loop: 64) completed. Time: 17:16:46\n",
      "Loop 260 (outer loop: 65) completed. Time: 17:17:20\n",
      "Loop 264 (outer loop: 66) completed. Time: 17:17:54\n",
      "Loop 268 (outer loop: 67) completed. Time: 17:18:31\n",
      "Loop 272 (outer loop: 68) completed. Time: 17:19:08\n",
      "Loop 276 (outer loop: 69) completed. Time: 17:19:44\n",
      "Loop 280 (outer loop: 70) completed. Time: 17:20:21\n",
      "Loop 284 (outer loop: 71) completed. Time: 17:20:56\n",
      "Loop 288 (outer loop: 72) completed. Time: 17:21:30\n",
      "Loop 292 (outer loop: 73) completed. Time: 17:22:06\n",
      "Loop 296 (outer loop: 74) completed. Time: 17:22:42\n",
      "Loop 300 (outer loop: 75) completed. Time: 17:23:19\n",
      "Loop 304 (outer loop: 76) completed. Time: 17:23:55\n",
      "Loop 308 (outer loop: 77) completed. Time: 17:24:32\n",
      "Loop 312 (outer loop: 78) completed. Time: 17:25:07\n",
      "Loop 316 (outer loop: 79) completed. Time: 17:25:41\n",
      "Loop 320 (outer loop: 80) completed. Time: 17:26:17\n",
      "Loop 324 (outer loop: 81) completed. Time: 17:26:53\n",
      "Loop 328 (outer loop: 82) completed. Time: 17:27:30\n",
      "Loop 332 (outer loop: 83) completed. Time: 17:28:07\n",
      "Loop 336 (outer loop: 84) completed. Time: 17:28:44\n",
      "Loop 340 (outer loop: 85) completed. Time: 17:29:17\n",
      "Loop 344 (outer loop: 86) completed. Time: 17:29:51\n",
      "Loop 348 (outer loop: 87) completed. Time: 17:30:28\n",
      "Loop 352 (outer loop: 88) completed. Time: 17:31:05\n",
      "Loop 356 (outer loop: 89) completed. Time: 17:31:40\n",
      "Loop 360 (outer loop: 90) completed. Time: 17:32:16\n",
      "Loop 364 (outer loop: 91) completed. Time: 17:32:52\n",
      "Loop 368 (outer loop: 92) completed. Time: 17:33:27\n",
      "Loop 372 (outer loop: 93) completed. Time: 17:34:01\n",
      "Loop 376 (outer loop: 94) completed. Time: 17:34:38\n",
      "Loop 380 (outer loop: 95) completed. Time: 17:35:15\n",
      "Loop 384 (outer loop: 96) completed. Time: 17:35:52\n",
      "Loop 388 (outer loop: 97) completed. Time: 17:36:28\n",
      "Loop 392 (outer loop: 98) completed. Time: 17:37:02\n",
      "Loop 396 (outer loop: 99) completed. Time: 17:37:36\n",
      "Loop 400 (outer loop: 100) completed. Time: 17:38:11\n"
     ]
    },
    {
     "data": {
      "text/plain": [
       "True"
      ]
     },
     "execution_count": 12,
     "metadata": {},
     "output_type": "execute_result"
    }
   ],
   "source": [
    "# parameters dictionary (copied from previous cell)\n",
    "params = {'dtree__max_depth': list(range(1, 11)),\n",
    "          'dtree__min_samples_split': list(range(2, 6)),\n",
    "          'dtree__criterion': ['gini', 'entropy', 'log_loss'],\n",
    "          'dtree__min_samples_leaf': list(range(1, 6))\n",
    "         }\n",
    "\n",
    "# params for testing\n",
    "#params = {'dtree__max_depth': list(range(1, 3)), # b/c max_depth from previous research maxed out at 10\n",
    "#          'dtree__min_samples_split': list(range(2, 4)), # \n",
    "#          'dtree__criterion': ['gini', 'entropy', 'log_loss'],\n",
    "#          'dtree__min_samples_leaf': list(range(1, 3))\n",
    "#         }\n",
    "\n",
    "# create pipeline\n",
    "base_pipe = Pipeline([\n",
    "    ('scale', StandardScaler()), ('dtree', dtree)\n",
    "])\n",
    "\n",
    "# instantiate the dicts to hold the results\n",
    "gscv_dict = {'time_taken': [], 'best_score': [], 'best_params': []}\n",
    "rscv_dict = {'time_taken': [], 'best_score': [], 'best_params': []}\n",
    "hgscv_dict = {'time_taken': [], 'best_score': [], 'best_params': []}\n",
    "hrscv_dict = {'time_taken': [], 'best_score': [], 'best_params': []}\n",
    "all_dict = {'Grid': gscv_dict, 'Randomized': rscv_dict, 'HalvingGrid': hgscv_dict, 'HalvingRandom': hrscv_dict}\n",
    "\n",
    "# run loop\n",
    "count = 0\n",
    "for i in list(range(1, 101)):\n",
    "    for temp_dict, temp_funct in [('Grid', GridSearchCV), ('Randomized', RandomizedSearchCV), ('HalvingGrid', HalvingGridSearchCV), ('HalvingRandom', HalvingRandomSearchCV)]:\n",
    "        count += 1\n",
    "\n",
    "        temp_start_time = time.time()\n",
    "        temp_cv = temp_funct(base_pipe, params).fit(X, y)\n",
    "        temp_duration = time.time() - temp_start_time\n",
    "        \n",
    "        all_dict[temp_dict]['time_taken'].append(temp_duration)\n",
    "        all_dict[temp_dict]['best_score'].append(temp_cv.best_score_)\n",
    "        all_dict[temp_dict]['best_params'].append(temp_cv.best_params_)\n",
    "\n",
    "    print(f'Loop {count} (outer loop: {i}) completed. Time: {time.strftime(\"%H:%M:%S\", time.localtime(time.time()))}')\n",
    "\n",
    "# save dict as JSON file, so I don't lose it\n",
    "with open('try_it_14.2 all_dict.json', 'w') as f:\n",
    "    json.dump(all_dict, f)\n",
    "\n",
    "# double check saving worked\n",
    "with open('try_it_14.2 all_dict.json', 'r') as f:\n",
    "    new_dict = json.load(f)\n",
    "\n",
    "new_dict == all_dict # should be True\n",
    "\n",
    "# Originally took about an hour to run"
   ]
  },
  {
   "cell_type": "markdown",
   "metadata": {},
   "source": [
    "# Visualize data"
   ]
  },
  {
   "cell_type": "markdown",
   "metadata": {},
   "source": [
    "## Time taken"
   ]
  },
  {
   "cell_type": "code",
   "execution_count": 14,
   "metadata": {},
   "outputs": [
    {
     "data": {
      "text/plain": [
       "100"
      ]
     },
     "execution_count": 14,
     "metadata": {},
     "output_type": "execute_result"
    }
   ],
   "source": [
    "with open('try_it_14.2 all_dict.json', 'r') as f:\n",
    "    all_dict = json.load(f)\n",
    "\n",
    "len(all_dict['Grid']['best_params']) # should be 100"
   ]
  },
  {
   "cell_type": "code",
   "execution_count": 17,
   "metadata": {},
   "outputs": [
    {
     "data": {
      "text/html": [
       "<div>\n",
       "<style scoped>\n",
       "    .dataframe tbody tr th:only-of-type {\n",
       "        vertical-align: middle;\n",
       "    }\n",
       "\n",
       "    .dataframe tbody tr th {\n",
       "        vertical-align: top;\n",
       "    }\n",
       "\n",
       "    .dataframe thead th {\n",
       "        text-align: right;\n",
       "    }\n",
       "</style>\n",
       "<table border=\"1\" class=\"dataframe\">\n",
       "  <thead>\n",
       "    <tr style=\"text-align: right;\">\n",
       "      <th></th>\n",
       "      <th>Grid</th>\n",
       "      <th>Randomized</th>\n",
       "      <th>HalvingGrid</th>\n",
       "      <th>HalvingRandom</th>\n",
       "      <th>ID</th>\n",
       "    </tr>\n",
       "  </thead>\n",
       "  <tbody>\n",
       "    <tr>\n",
       "      <th>0</th>\n",
       "      <td>13.576826</td>\n",
       "      <td>0.236528</td>\n",
       "      <td>21.079757</td>\n",
       "      <td>2.331209</td>\n",
       "      <td>1</td>\n",
       "    </tr>\n",
       "    <tr>\n",
       "      <th>1</th>\n",
       "      <td>13.303482</td>\n",
       "      <td>0.231242</td>\n",
       "      <td>21.070098</td>\n",
       "      <td>2.394496</td>\n",
       "      <td>2</td>\n",
       "    </tr>\n",
       "    <tr>\n",
       "      <th>2</th>\n",
       "      <td>13.716553</td>\n",
       "      <td>0.243228</td>\n",
       "      <td>20.772987</td>\n",
       "      <td>2.241926</td>\n",
       "      <td>3</td>\n",
       "    </tr>\n",
       "    <tr>\n",
       "      <th>3</th>\n",
       "      <td>12.896018</td>\n",
       "      <td>0.214806</td>\n",
       "      <td>19.635214</td>\n",
       "      <td>2.138788</td>\n",
       "      <td>4</td>\n",
       "    </tr>\n",
       "    <tr>\n",
       "      <th>4</th>\n",
       "      <td>12.470403</td>\n",
       "      <td>0.219198</td>\n",
       "      <td>19.528837</td>\n",
       "      <td>2.304646</td>\n",
       "      <td>5</td>\n",
       "    </tr>\n",
       "  </tbody>\n",
       "</table>\n",
       "</div>"
      ],
      "text/plain": [
       "        Grid  Randomized  HalvingGrid  HalvingRandom  ID\n",
       "0  13.576826    0.236528    21.079757       2.331209   1\n",
       "1  13.303482    0.231242    21.070098       2.394496   2\n",
       "2  13.716553    0.243228    20.772987       2.241926   3\n",
       "3  12.896018    0.214806    19.635214       2.138788   4\n",
       "4  12.470403    0.219198    19.528837       2.304646   5"
      ]
     },
     "execution_count": 17,
     "metadata": {},
     "output_type": "execute_result"
    }
   ],
   "source": [
    "time_data = pd.DataFrame({'ID': list(range(1,101)),\n",
    "                          'Grid': all_dict['Grid']['time_taken'],\n",
    "                          'Randomized': all_dict['Randomized']['time_taken'],\n",
    "                          'HalvingGrid': all_dict['HalvingGrid']['time_taken'],\n",
    "                          'HalvingRandom': all_dict['HalvingRandom']['time_taken'],\n",
    "                          })\n",
    "time_data.head()"
   ]
  },
  {
   "cell_type": "code",
   "execution_count": 31,
   "metadata": {},
   "outputs": [
    {
     "data": {
      "text/html": [
       "<div>\n",
       "<style scoped>\n",
       "    .dataframe tbody tr th:only-of-type {\n",
       "        vertical-align: middle;\n",
       "    }\n",
       "\n",
       "    .dataframe tbody tr th {\n",
       "        vertical-align: top;\n",
       "    }\n",
       "\n",
       "    .dataframe thead th {\n",
       "        text-align: right;\n",
       "    }\n",
       "</style>\n",
       "<table border=\"1\" class=\"dataframe\">\n",
       "  <thead>\n",
       "    <tr style=\"text-align: right;\">\n",
       "      <th></th>\n",
       "      <th>ID</th>\n",
       "      <th>Grid</th>\n",
       "      <th>Randomized</th>\n",
       "      <th>HalvingGrid</th>\n",
       "      <th>HalvingRandom</th>\n",
       "    </tr>\n",
       "  </thead>\n",
       "  <tbody>\n",
       "    <tr>\n",
       "      <th>0</th>\n",
       "      <td>1</td>\n",
       "      <td>0.852358</td>\n",
       "      <td>0.847784</td>\n",
       "      <td>0.844185</td>\n",
       "      <td>0.842264</td>\n",
       "    </tr>\n",
       "    <tr>\n",
       "      <th>1</th>\n",
       "      <td>2</td>\n",
       "      <td>0.852358</td>\n",
       "      <td>0.847023</td>\n",
       "      <td>0.860834</td>\n",
       "      <td>0.823832</td>\n",
       "    </tr>\n",
       "    <tr>\n",
       "      <th>2</th>\n",
       "      <td>3</td>\n",
       "      <td>0.852358</td>\n",
       "      <td>0.849305</td>\n",
       "      <td>0.860852</td>\n",
       "      <td>0.847906</td>\n",
       "    </tr>\n",
       "    <tr>\n",
       "      <th>3</th>\n",
       "      <td>4</td>\n",
       "      <td>0.852358</td>\n",
       "      <td>0.847018</td>\n",
       "      <td>0.860834</td>\n",
       "      <td>0.820076</td>\n",
       "    </tr>\n",
       "    <tr>\n",
       "      <th>4</th>\n",
       "      <td>5</td>\n",
       "      <td>0.852358</td>\n",
       "      <td>0.852358</td>\n",
       "      <td>0.857234</td>\n",
       "      <td>0.844150</td>\n",
       "    </tr>\n",
       "  </tbody>\n",
       "</table>\n",
       "</div>"
      ],
      "text/plain": [
       "   ID      Grid  Randomized  HalvingGrid  HalvingRandom\n",
       "0   1  0.852358    0.847784     0.844185       0.842264\n",
       "1   2  0.852358    0.847023     0.860834       0.823832\n",
       "2   3  0.852358    0.849305     0.860852       0.847906\n",
       "3   4  0.852358    0.847018     0.860834       0.820076\n",
       "4   5  0.852358    0.852358     0.857234       0.844150"
      ]
     },
     "execution_count": 31,
     "metadata": {},
     "output_type": "execute_result"
    }
   ],
   "source": [
    "score_data = pd.DataFrame({'ID': list(range(1,101)),\n",
    "                          'Grid': all_dict['Grid']['best_score'],\n",
    "                          'Randomized': all_dict['Randomized']['best_score'],\n",
    "                          'HalvingGrid': all_dict['HalvingGrid']['best_score'],\n",
    "                          'HalvingRandom': all_dict['HalvingRandom']['best_score'],\n",
    "                          })\n",
    "score_data.head()"
   ]
  },
  {
   "cell_type": "code",
   "execution_count": 46,
   "metadata": {},
   "outputs": [
    {
     "name": "stdout",
     "output_type": "stream",
     "text": [
      "<class 'pandas.core.frame.DataFrame'>\n",
      "Index: 400 entries, 1_Grid to 100_HalvingRandom\n",
      "Data columns (total 3 columns):\n",
      " #   Column             Non-Null Count  Dtype  \n",
      "---  ------             --------------  -----  \n",
      " 0   GridSearch Method  400 non-null    object \n",
      " 1   Time Taken         400 non-null    float64\n",
      " 2   Score              400 non-null    float64\n",
      "dtypes: float64(2), object(1)\n",
      "memory usage: 12.5+ KB\n"
     ]
    }
   ],
   "source": [
    "time_long = pd.melt(time_data, id_vars=['ID'], var_name = 'GridSearch Method', value_name = 'Time Taken')\n",
    "time_long['new_index'] = time_long['ID'].astype(str) + \"_\" + time_long['GridSearch Method']\n",
    "time_long = time_long.set_index('new_index', drop = True).drop('ID',axis=1)\n",
    "\n",
    "score_long = pd.melt(score_data, id_vars=['ID'], var_name = 'GridSearch Method', value_name = 'Score')\n",
    "score_long['new_index'] = score_long['ID'].astype(str) + \"_\" + score_long['GridSearch Method']\n",
    "score_long = score_long.set_index('new_index', drop = True).drop(['ID', 'GridSearch Method'],axis=1)\n",
    "\n",
    "all_long = pd.concat([time_long, score_long], axis = 1)\n",
    "all_long.info()"
   ]
  },
  {
   "cell_type": "code",
   "execution_count": 60,
   "metadata": {},
   "outputs": [
    {
     "name": "stdout",
     "output_type": "stream",
     "text": [
      "GridSearch Method\n",
      "Grid           100\n",
      "HalvingGrid    100\n",
      "Name: count, dtype: int64\n"
     ]
    },
    {
     "data": {
      "text/plain": [
       "GridSearch Method\n",
       "Randomized       100\n",
       "HalvingRandom    100\n",
       "Name: count, dtype: int64"
      ]
     },
     "execution_count": 60,
     "metadata": {},
     "output_type": "execute_result"
    }
   ],
   "source": [
    "# plot just outliers\n",
    "high_long = all_long[(all_long['GridSearch Method']=='Grid') | (all_long['GridSearch Method']=='HalvingGrid')]\n",
    "short_long = all_long[(all_long['GridSearch Method']=='Randomized') | (all_long['GridSearch Method']=='HalvingRandom')]\n",
    "\n",
    "print(high_long['GridSearch Method'].value_counts())\n",
    "short_long['GridSearch Method'].value_counts()"
   ]
  },
  {
   "cell_type": "code",
   "execution_count": 72,
   "metadata": {},
   "outputs": [
    {
     "data": {
      "image/png": "[encoded data removed]",
      "text/plain": [
       "<Figure size 800x800 with 3 Axes>"
      ]
     },
     "metadata": {},
     "output_type": "display_data"
    }
   ],
   "source": [
    "plt.figure(figsize = (10, 10), dpi = 80, facecolor = 'w', edgecolor = 'k')\n",
    "plt.suptitle('Violin Plots of Time Taken (N = 100 for each category)\\n')\n",
    "\n",
    "# time taken - all three\n",
    "plt.subplot(3, 1, 1)\n",
    "sns.violinplot(all_long, x = 'Time Taken', hue = 'GridSearch Method')\n",
    "\n",
    "plt.subplot(3, 1, 2)\n",
    "sns.violinplot(short_long, x = 'Time Taken', hue = 'GridSearch Method')\n",
    "\n",
    "plt.subplot(3, 1, 3)\n",
    "sns.violinplot(short_long[short_long['GridSearch Method']=='Randomized'], x = 'Time Taken', hue = 'GridSearch Method')\n",
    "\n",
    "#plt.plot(list(range(1, temp_max_train_index+1)), temp_train_scores, label = 'Training Accuracy', marker = 'o')\n",
    "#plt.plot(list(range(1, temp_max_train_index+1)), temp_test_scores, label = 'Test Accuracy', marker = 'o')\n",
    "\n",
    "\n",
    "#plt.figure(figsize=(12,6))\n",
    "#sns.violinplot(all_long, x = 'Time Taken', hue = 'GridSearch Method')\n",
    "plt.tight_layout()\n",
    "plt.savefig('14_2_timetaken.png')"
   ]
  },
  {
   "cell_type": "markdown",
   "metadata": {},
   "source": [
    "## Scores x Time Taken"
   ]
  },
  {
   "cell_type": "code",
   "execution_count": 71,
   "metadata": {},
   "outputs": [
    {
     "data": {
      "image/png": "[encoded data removed]",
      "text/plain": [
       "<Figure size 640x480 with 1 Axes>"
      ]
     },
     "metadata": {},
     "output_type": "display_data"
    }
   ],
   "source": [
    "sns.scatterplot(all_long, x = 'Time Taken', y = 'Score', hue = 'GridSearch Method')\n",
    "plt.savefig('14_2_scatterplot.png')"
   ]
  },
  {
   "cell_type": "code",
   "execution_count": 67,
   "metadata": {},
   "outputs": [
    {
     "data": {
      "text/html": [
       "<div>\n",
       "<style scoped>\n",
       "    .dataframe tbody tr th:only-of-type {\n",
       "        vertical-align: middle;\n",
       "    }\n",
       "\n",
       "    .dataframe tbody tr th {\n",
       "        vertical-align: top;\n",
       "    }\n",
       "\n",
       "    .dataframe thead th {\n",
       "        text-align: right;\n",
       "    }\n",
       "</style>\n",
       "<table border=\"1\" class=\"dataframe\">\n",
       "  <thead>\n",
       "    <tr style=\"text-align: right;\">\n",
       "      <th></th>\n",
       "      <th>GridSearch Method</th>\n",
       "      <th>Time Taken</th>\n",
       "      <th>Score</th>\n",
       "    </tr>\n",
       "    <tr>\n",
       "      <th>new_index</th>\n",
       "      <th></th>\n",
       "      <th></th>\n",
       "      <th></th>\n",
       "    </tr>\n",
       "  </thead>\n",
       "  <tbody>\n",
       "    <tr>\n",
       "      <th>1_Grid</th>\n",
       "      <td>Grid</td>\n",
       "      <td>13.576826</td>\n",
       "      <td>0.852358</td>\n",
       "    </tr>\n",
       "    <tr>\n",
       "      <th>2_Grid</th>\n",
       "      <td>Grid</td>\n",
       "      <td>13.303482</td>\n",
       "      <td>0.852358</td>\n",
       "    </tr>\n",
       "    <tr>\n",
       "      <th>3_Grid</th>\n",
       "      <td>Grid</td>\n",
       "      <td>13.716553</td>\n",
       "      <td>0.852358</td>\n",
       "    </tr>\n",
       "    <tr>\n",
       "      <th>4_Grid</th>\n",
       "      <td>Grid</td>\n",
       "      <td>12.896018</td>\n",
       "      <td>0.852358</td>\n",
       "    </tr>\n",
       "    <tr>\n",
       "      <th>5_Grid</th>\n",
       "      <td>Grid</td>\n",
       "      <td>12.470403</td>\n",
       "      <td>0.852358</td>\n",
       "    </tr>\n",
       "  </tbody>\n",
       "</table>\n",
       "</div>"
      ],
      "text/plain": [
       "          GridSearch Method  Time Taken     Score\n",
       "new_index                                        \n",
       "1_Grid                 Grid   13.576826  0.852358\n",
       "2_Grid                 Grid   13.303482  0.852358\n",
       "3_Grid                 Grid   13.716553  0.852358\n",
       "4_Grid                 Grid   12.896018  0.852358\n",
       "5_Grid                 Grid   12.470403  0.852358"
      ]
     },
     "execution_count": 67,
     "metadata": {},
     "output_type": "execute_result"
    }
   ],
   "source": []
  },
  {
   "cell_type": "code",
   "execution_count": 69,
   "metadata": {},
   "outputs": [
    {
     "data": {
      "text/html": [
       "<div>\n",
       "<style scoped>\n",
       "    .dataframe tbody tr th:only-of-type {\n",
       "        vertical-align: middle;\n",
       "    }\n",
       "\n",
       "    .dataframe tbody tr th {\n",
       "        vertical-align: top;\n",
       "    }\n",
       "\n",
       "    .dataframe thead th {\n",
       "        text-align: right;\n",
       "    }\n",
       "</style>\n",
       "<table border=\"1\" class=\"dataframe\">\n",
       "  <thead>\n",
       "    <tr style=\"text-align: right;\">\n",
       "      <th></th>\n",
       "      <th>Time Taken</th>\n",
       "      <th>Score</th>\n",
       "    </tr>\n",
       "    <tr>\n",
       "      <th>GridSearch Method</th>\n",
       "      <th></th>\n",
       "      <th></th>\n",
       "    </tr>\n",
       "  </thead>\n",
       "  <tbody>\n",
       "    <tr>\n",
       "      <th>Grid</th>\n",
       "      <td>13.010355</td>\n",
       "      <td>0.852358</td>\n",
       "    </tr>\n",
       "    <tr>\n",
       "      <th>HalvingGrid</th>\n",
       "      <td>20.158695</td>\n",
       "      <td>0.844323</td>\n",
       "    </tr>\n",
       "    <tr>\n",
       "      <th>HalvingRandom</th>\n",
       "      <td>2.242373</td>\n",
       "      <td>0.842902</td>\n",
       "    </tr>\n",
       "    <tr>\n",
       "      <th>Randomized</th>\n",
       "      <td>0.222214</td>\n",
       "      <td>0.850041</td>\n",
       "    </tr>\n",
       "  </tbody>\n",
       "</table>\n",
       "</div>"
      ],
      "text/plain": [
       "                   Time Taken     Score\n",
       "GridSearch Method                      \n",
       "Grid                13.010355  0.852358\n",
       "HalvingGrid         20.158695  0.844323\n",
       "HalvingRandom        2.242373  0.842902\n",
       "Randomized           0.222214  0.850041"
      ]
     },
     "execution_count": 69,
     "metadata": {},
     "output_type": "execute_result"
    }
   ],
   "source": [
    "all_long.groupby('GridSearch Method').mean()"
   ]
  },
  {
   "cell_type": "code",
   "execution_count": 70,
   "metadata": {},
   "outputs": [
    {
     "data": {
      "text/html": [
       "<div>\n",
       "<style scoped>\n",
       "    .dataframe tbody tr th:only-of-type {\n",
       "        vertical-align: middle;\n",
       "    }\n",
       "\n",
       "    .dataframe tbody tr th {\n",
       "        vertical-align: top;\n",
       "    }\n",
       "\n",
       "    .dataframe thead th {\n",
       "        text-align: right;\n",
       "    }\n",
       "</style>\n",
       "<table border=\"1\" class=\"dataframe\">\n",
       "  <thead>\n",
       "    <tr style=\"text-align: right;\">\n",
       "      <th></th>\n",
       "      <th>Time Taken</th>\n",
       "      <th>Score</th>\n",
       "    </tr>\n",
       "    <tr>\n",
       "      <th>GridSearch Method</th>\n",
       "      <th></th>\n",
       "      <th></th>\n",
       "    </tr>\n",
       "  </thead>\n",
       "  <tbody>\n",
       "    <tr>\n",
       "      <th>Grid</th>\n",
       "      <td>0.567268</td>\n",
       "      <td>0.000000</td>\n",
       "    </tr>\n",
       "    <tr>\n",
       "      <th>HalvingGrid</th>\n",
       "      <td>0.866086</td>\n",
       "      <td>0.013255</td>\n",
       "    </tr>\n",
       "    <tr>\n",
       "      <th>HalvingRandom</th>\n",
       "      <td>0.095860</td>\n",
       "      <td>0.012814</td>\n",
       "    </tr>\n",
       "    <tr>\n",
       "      <th>Randomized</th>\n",
       "      <td>0.015740</td>\n",
       "      <td>0.002870</td>\n",
       "    </tr>\n",
       "  </tbody>\n",
       "</table>\n",
       "</div>"
      ],
      "text/plain": [
       "                   Time Taken     Score\n",
       "GridSearch Method                      \n",
       "Grid                 0.567268  0.000000\n",
       "HalvingGrid          0.866086  0.013255\n",
       "HalvingRandom        0.095860  0.012814\n",
       "Randomized           0.015740  0.002870"
      ]
     },
     "execution_count": 70,
     "metadata": {},
     "output_type": "execute_result"
    }
   ],
   "source": [
    "all_long.groupby('GridSearch Method').std()"
   ]
  },
  {
   "cell_type": "code",
   "execution_count": 85,
   "metadata": {},
   "outputs": [
    {
     "data": {
      "text/html": [
       "<div>\n",
       "<style scoped>\n",
       "    .dataframe tbody tr th:only-of-type {\n",
       "        vertical-align: middle;\n",
       "    }\n",
       "\n",
       "    .dataframe tbody tr th {\n",
       "        vertical-align: top;\n",
       "    }\n",
       "\n",
       "    .dataframe thead th {\n",
       "        text-align: right;\n",
       "    }\n",
       "</style>\n",
       "<table border=\"1\" class=\"dataframe\">\n",
       "  <thead>\n",
       "    <tr style=\"text-align: right;\">\n",
       "      <th></th>\n",
       "      <th>Time Taken</th>\n",
       "      <th>Score</th>\n",
       "    </tr>\n",
       "    <tr>\n",
       "      <th>GridSearch Method</th>\n",
       "      <th></th>\n",
       "      <th></th>\n",
       "    </tr>\n",
       "  </thead>\n",
       "  <tbody>\n",
       "    <tr>\n",
       "      <th>Grid</th>\n",
       "      <td>-1.680137</td>\n",
       "      <td>0.000000</td>\n",
       "    </tr>\n",
       "    <tr>\n",
       "      <th>HalvingGrid</th>\n",
       "      <td>-2.170742</td>\n",
       "      <td>-0.346501</td>\n",
       "    </tr>\n",
       "    <tr>\n",
       "      <th>HalvingRandom</th>\n",
       "      <td>-1.081874</td>\n",
       "      <td>-0.015407</td>\n",
       "    </tr>\n",
       "    <tr>\n",
       "      <th>Randomized</th>\n",
       "      <td>-0.942828</td>\n",
       "      <td>-0.780033</td>\n",
       "    </tr>\n",
       "  </tbody>\n",
       "</table>\n",
       "</div>"
      ],
      "text/plain": [
       "                   Time Taken     Score\n",
       "GridSearch Method                      \n",
       "Grid                -1.680137  0.000000\n",
       "HalvingGrid         -2.170742 -0.346501\n",
       "HalvingRandom       -1.081874 -0.015407\n",
       "Randomized          -0.942828 -0.780033"
      ]
     },
     "execution_count": 85,
     "metadata": {},
     "output_type": "execute_result"
    }
   ],
   "source": [
    "all_long.groupby('GridSearch Method').skew()"
   ]
  },
  {
   "cell_type": "code",
   "execution_count": 86,
   "metadata": {},
   "outputs": [
    {
     "data": {
      "text/html": [
       "<div>\n",
       "<style scoped>\n",
       "    .dataframe tbody tr th:only-of-type {\n",
       "        vertical-align: middle;\n",
       "    }\n",
       "\n",
       "    .dataframe tbody tr th {\n",
       "        vertical-align: top;\n",
       "    }\n",
       "\n",
       "    .dataframe thead th {\n",
       "        text-align: right;\n",
       "    }\n",
       "</style>\n",
       "<table border=\"1\" class=\"dataframe\">\n",
       "  <thead>\n",
       "    <tr style=\"text-align: right;\">\n",
       "      <th></th>\n",
       "      <th>Time Taken</th>\n",
       "      <th>Score</th>\n",
       "    </tr>\n",
       "    <tr>\n",
       "      <th>GridSearch Method</th>\n",
       "      <th></th>\n",
       "      <th></th>\n",
       "    </tr>\n",
       "  </thead>\n",
       "  <tbody>\n",
       "    <tr>\n",
       "      <th>Grid</th>\n",
       "      <td>13.716553</td>\n",
       "      <td>0.852358</td>\n",
       "    </tr>\n",
       "    <tr>\n",
       "      <th>HalvingGrid</th>\n",
       "      <td>21.079757</td>\n",
       "      <td>0.870128</td>\n",
       "    </tr>\n",
       "    <tr>\n",
       "      <th>HalvingRandom</th>\n",
       "      <td>2.394496</td>\n",
       "      <td>0.877622</td>\n",
       "    </tr>\n",
       "    <tr>\n",
       "      <th>Randomized</th>\n",
       "      <td>0.289226</td>\n",
       "      <td>0.852358</td>\n",
       "    </tr>\n",
       "  </tbody>\n",
       "</table>\n",
       "</div>"
      ],
      "text/plain": [
       "                   Time Taken     Score\n",
       "GridSearch Method                      \n",
       "Grid                13.716553  0.852358\n",
       "HalvingGrid         21.079757  0.870128\n",
       "HalvingRandom        2.394496  0.877622\n",
       "Randomized           0.289226  0.852358"
      ]
     },
     "execution_count": 86,
     "metadata": {},
     "output_type": "execute_result"
    }
   ],
   "source": [
    "all_long.groupby('GridSearch Method').max()"
   ]
  },
  {
   "cell_type": "markdown",
   "metadata": {},
   "source": [
    "# Best Parameters"
   ]
  },
  {
   "cell_type": "code",
   "execution_count": null,
   "metadata": {},
   "outputs": [],
   "source": [
    "Get the set of unique best parameters identified by each method"
   ]
  },
  {
   "cell_type": "code",
   "execution_count": 78,
   "metadata": {},
   "outputs": [
    {
     "data": {
      "text/plain": [
       "[{'dtree__criterion': 'gini',\n",
       "  'dtree__max_depth': 1,\n",
       "  'dtree__min_samples_leaf': 1,\n",
       "  'dtree__min_samples_split': 2}]"
      ]
     },
     "execution_count": 78,
     "metadata": {},
     "output_type": "execute_result"
    }
   ],
   "source": [
    "grid_best = list(all_dict['Grid']['best_params'])\n",
    "\n",
    "seen = set()\n",
    "grid_unique_dicts = []\n",
    "for d in grid_best:\n",
    "    serialized = json.dumps(d, sort_keys=True)\n",
    "    if serialized not in seen:\n",
    "        seen.add(serialized)\n",
    "        grid_unique_dicts.append(d)\n",
    "\n",
    "grid_unique_dicts"
   ]
  },
  {
   "cell_type": "code",
   "execution_count": 81,
   "metadata": {},
   "outputs": [
    {
     "data": {
      "text/plain": [
       "69"
      ]
     },
     "execution_count": 81,
     "metadata": {},
     "output_type": "execute_result"
    }
   ],
   "source": [
    "random_best = list(all_dict['Randomized']['best_params'])\n",
    "\n",
    "seen = set()\n",
    "random_unique_dicts = []\n",
    "for d in random_best:\n",
    "    serialized = json.dumps(d, sort_keys=True)\n",
    "    if serialized not in seen:\n",
    "        seen.add(serialized)\n",
    "        random_unique_dicts.append(d)\n",
    "\n",
    "len(random_unique_dicts)"
   ]
  },
  {
   "cell_type": "code",
   "execution_count": 82,
   "metadata": {},
   "outputs": [
    {
     "data": {
      "text/plain": [
       "84"
      ]
     },
     "execution_count": 82,
     "metadata": {},
     "output_type": "execute_result"
    }
   ],
   "source": [
    "hgrid_best = list(all_dict['HalvingGrid']['best_params'])\n",
    "\n",
    "seen = set()\n",
    "hgrid_unique_dicts = []\n",
    "for d in hgrid_best:\n",
    "    serialized = json.dumps(d, sort_keys=True)\n",
    "    if serialized not in seen:\n",
    "        seen.add(serialized)\n",
    "        hgrid_unique_dicts.append(d)\n",
    "\n",
    "len(hgrid_unique_dicts)"
   ]
  },
  {
   "cell_type": "code",
   "execution_count": 83,
   "metadata": {},
   "outputs": [
    {
     "data": {
      "text/plain": [
       "85"
      ]
     },
     "execution_count": 83,
     "metadata": {},
     "output_type": "execute_result"
    }
   ],
   "source": [
    "hrandom_best = list(all_dict['HalvingRandom']['best_params'])\n",
    "\n",
    "seen = set()\n",
    "hrandom_unique_dicts = []\n",
    "for d in hrandom_best:\n",
    "    serialized = json.dumps(d, sort_keys=True)\n",
    "    if serialized not in seen:\n",
    "        seen.add(serialized)\n",
    "        hrandom_unique_dicts.append(d)\n",
    "\n",
    "len(hrandom_unique_dicts)"
   ]
  },
  {
   "cell_type": "code",
   "execution_count": null,
   "metadata": {},
   "outputs": [],
   "source": []
  },
  {
   "cell_type": "code",
   "execution_count": null,
   "metadata": {},
   "outputs": [],
   "source": []
  },
  {
   "cell_type": "code",
   "execution_count": null,
   "metadata": {},
   "outputs": [],
   "source": []
  },
  {
   "cell_type": "code",
   "execution_count": null,
   "metadata": {},
   "outputs": [],
   "source": []
  },
  {
   "cell_type": "code",
   "execution_count": null,
   "metadata": {},
   "outputs": [],
   "source": []
  }
 ],
 "metadata": {
  "kernelspec": {
   "display_name": "Python 3 (ipykernel)",
   "language": "python",
   "name": "python3"
  },
  "language_info": {
   "codemirror_mode": {
    "name": "ipython",
    "version": 3
   },
   "file_extension": ".py",
   "mimetype": "text/x-python",
   "name": "python",
   "nbconvert_exporter": "python",
   "pygments_lexer": "ipython3",
   "version": "3.11.6"
  },
  "widgets": {
   "application/vnd.jupyter.widget-state+json": {
    "state": {},
    "version_major": 2,
    "version_minor": 0
   }
  }
 },
 "nbformat": 4,
 "nbformat_minor": 4
}
